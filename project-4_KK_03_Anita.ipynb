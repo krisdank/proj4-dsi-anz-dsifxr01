{
 "cells": [
  {
   "cell_type": "markdown",
   "metadata": {},
   "source": [
    "# ![](https://ga-dash.s3.amazonaws.com/production/assets/logo-9f88ae6c9c3871690e33280fcf557f33.png) Project 4: Web Scraping Job Postings\n",
    "\n",
    "## Business Case Overview\n",
    "\n",
    "You're working as a data scientist for a contracting firm that's rapidly expanding. Now that they have their most valuable employee (you!), they need to leverage data to win more contracts. Your firm offers technology and scientific solutions and wants to be competitive in the hiring market. Your principal has two main objectives:\n",
    "\n",
    "   1. Determine the industry factors that are most important in predicting the salary amounts for these data.\n",
    "   2. Determine the factors that distinguish job categories and titles from each other. For example, can required skills accurately predict job title?\n",
    "\n",
    "To limit the scope, your principal has suggested that you *focus on data-related job postings*, e.g. data scientist, data analyst, research scientist, business intelligence, and any others you might think of. You may also want to decrease the scope by *limiting your search to a single region.*\n",
    "\n",
    "Hint: Aggregators like [Seek.com](https://www.seek.com) regularly pool job postings from a variety of markets and industries. \n",
    "\n",
    "**Goal:** Scrape your own data from a job aggregation tool like seek.com in order to collect the data to best answer these two questions.\n",
    "\n",
    "---\n",
    "\n",
    "## Directions\n",
    "\n",
    "In this project you will be leveraging a variety of skills. The first will be to use the web-scraping and/or API techniques you've learned to collect data on data jobs from Indeed.com or another aggregator. Once you have collected and cleaned the data, you will use it to answer the two questions described above.\n",
    "\n",
    "### QUESTION 1: Factors that impact salary\n",
    "\n",
    "To predict salary you will be building either a classification or regression model, using features like the location, title, and summary of the job. If framing this as a regression problem, you will be estimating the listed salary amounts. You may instead choose to frame this as a classification problem, in which case you will create labels from these salaries (high vs. low salary, for example) according to thresholds (such as median salary).\n",
    "\n",
    "You have learned a variety of new skills and models that may be useful for this problem:\n",
    "- NLP\n",
    "- Unsupervised learning and dimensionality reduction techniques (PCA, clustering)\n",
    "- Ensemble methods and decision tree models\n",
    "- SVM models\n",
    "\n",
    "Whatever you decide to use, the most important thing is to justify your choices and interpret your results. *Communication of your process is key.* Note that most listings **DO NOT** come with salary information. You'll need to able to extrapolate or predict the expected salaries for these listings.\n",
    "\n",
    "### QUESTION 2: Factors that distinguish job category\n",
    "\n",
    "Using the job postings you scraped for part 1 (or potentially new job postings from a second round of scraping), identify features in the data related to job postings that can distinguish job titles from each other. There are a variety of interesting ways you can frame the target variable, for example:\n",
    "- What components of a job posting distinguish data scientists from other data jobs?\n",
    "- What features are important for distinguishing junior vs. senior positions?\n",
    "- Do the requirements for titles vary significantly with industry (e.g. healthcare vs. government)?\n",
    "\n",
    "You may end up making multiple classification models to tackle different questions. Be sure to clearly explain your hypotheses and framing, any feature engineering, and what your target variables are. The type of classification model you choose is up to you. Be sure to interpret your results and evaluate your models' performance.\n",
    " \n",
    "## Requirements\n",
    "\n",
    "1. Scrape and prepare your own data.\n",
    "\n",
    "2. **Create and compare at least two models for each section**. One of the two models should be a decision tree or ensemble model. The other can be a classifier or regression of your choosing (e.g. Ridge, logistic regression, KNN, SVM, etc).\n",
    "   - Section 1: Job Salary Trends\n",
    "   - Section 2: Job Category Factors\n",
    "\n",
    "3. Prepare a polished Jupyter Notebook with your analysis for a peer audience of data scientists. \n",
    "   - Make sure to clearly describe and label each section.\n",
    "   - Comment on your code so that others could, in theory, replicate your work.\n",
    "\n",
    "4. A brief writeup in an executive summary, written for a non-technical audience.\n",
    "   - Writeups should be at least 500-1000 words, defining any technical terms, explaining your approach, as well as any risks and limitations.\n",
    "\n",
    " \n",
    "\n",
    "## Suggestions for Getting Started\n",
    "\n",
    "1. Collect data from [seek.com](www.seek.com) (or another aggregator) on data-related jobs to use in predicting salary trends for your analysis.\n",
    "  - Select and parse data from *at least 1000 postings* for jobs, potentially from multiple location searches.\n",
    "2. Find out what factors most directly impact salaries (e.g. title, location, department, etc).\n",
    "  - Test, validate, and describe your models. What factors predict salary category? How do your models perform?\n",
    "3. Discover which features have the greatest importance when determining a low vs. high paying job.\n",
    "  - Your Boss is interested in what overall features hold the greatest significance.\n",
    "  - HR is interested in which SKILLS and KEY WORDS hold the greatest significance.   \n",
    "4. Author an executive summary that details the highlights of your analysis for a non-technical audience.\n",
    " \n",
    "---\n",
    "\n",
    "## Useful Resources\n",
    "\n",
    "- Scraping is one of the most fun, useful and interesting skills out there. Don’t lose out by copying someone else's code!\n",
    "- [Here is some advice on how to write for a non-technical audience](http://programmers.stackexchange.com/questions/11523/explaining-technical-things-to-non-technical-people)\n",
    "- [Documentation for BeautifulSoup can be found here](http://www.crummy.com/software/BeautifulSoup/).\n",
    "\n",
    "---\n",
    "\n",
    "### Project Feedback + Evaluation\n",
    "\n",
    "For all projects, students will be evaluated on a simple 4 point scale (0, 1, 2 or 3). Instructors will use this rubric when scoring student performance on each of the core project **requirements:** \n",
    "\n",
    " Score | Expectations\n",
    " ----- | ------------\n",
    " **0** | _Did not complete. Try again._\n",
    " **1** | _Does not meet expectations. Try again_\n",
    " **2** | _Meets expectations._\n",
    " **3** | _Surpasses expectations. Brilliant!_\n",
    " \n",
    " # Project 4 feedback\n",
    "| Requirement | Rubric   |\n",
    "|------|------|\n",
    "|   Scrape and prepare your own data  | |\n",
    "|   Create and compare at least two models, one a decision tree or ensemble and the other a classifier or regression for Section 1: Job Salary Trends and Section 2: Job Category Factors (so at least 4 models in total)  | |\n",
    "|   Polished Jupyter notebook with your analysis annotated for a peer audience of data scientists  | |\n",
    "|  Executive summary at the beginning of your notebook for written for your superiors to use to make business decisions. Make sure that it includes the ‘So what…’ regarding your analysis, risks and limitations. ||\n",
    "|   \n",
    "__Qualitative feedback:__\n"
   ]
  },
  {
   "cell_type": "code",
   "execution_count": 2,
   "metadata": {},
   "outputs": [
    {
     "data": {
      "text/html": [
       "<div>\n",
       "<style scoped>\n",
       "    .dataframe tbody tr th:only-of-type {\n",
       "        vertical-align: middle;\n",
       "    }\n",
       "\n",
       "    .dataframe tbody tr th {\n",
       "        vertical-align: top;\n",
       "    }\n",
       "\n",
       "    .dataframe thead th {\n",
       "        text-align: right;\n",
       "    }\n",
       "</style>\n",
       "<table border=\"1\" class=\"dataframe\">\n",
       "  <thead>\n",
       "    <tr style=\"text-align: right;\">\n",
       "      <th></th>\n",
       "      <th>Unnamed: 0</th>\n",
       "      <th>Job Title</th>\n",
       "      <th>Company</th>\n",
       "      <th>multiple_details</th>\n",
       "      <th>Description</th>\n",
       "    </tr>\n",
       "  </thead>\n",
       "  <tbody>\n",
       "    <tr>\n",
       "      <th>0</th>\n",
       "      <td>0</td>\n",
       "      <td>Data Scientist</td>\n",
       "      <td>Fundo Loans</td>\n",
       "      <td>['Sydney', 'CBD, Inner West &amp; Eastern Suburbs'...</td>\n",
       "      <td>We are scaling up! An exciting opportunity exi...</td>\n",
       "    </tr>\n",
       "    <tr>\n",
       "      <th>1</th>\n",
       "      <td>1</td>\n",
       "      <td>Data Analyst</td>\n",
       "      <td>AIA Australia Limited</td>\n",
       "      <td>['Melbourne', 'CBD &amp; Inner Suburbs', 'Banking ...</td>\n",
       "      <td>The focus of this role is to provide support t...</td>\n",
       "    </tr>\n",
       "    <tr>\n",
       "      <th>2</th>\n",
       "      <td>2</td>\n",
       "      <td>Junior Business Intelligence Analyst</td>\n",
       "      <td>Hays Talent Solutions</td>\n",
       "      <td>['Sydney', 'CBD, Inner West &amp; Eastern Suburbs'...</td>\n",
       "      <td>Your new companyAt Hays, we are on a journey t...</td>\n",
       "    </tr>\n",
       "    <tr>\n",
       "      <th>3</th>\n",
       "      <td>3</td>\n",
       "      <td>Data Analyst</td>\n",
       "      <td>Atos Australia</td>\n",
       "      <td>['Sydney', 'CBD, Inner West &amp; Eastern Suburbs'...</td>\n",
       "      <td>About Atos:Atos is a global leader in digital ...</td>\n",
       "    </tr>\n",
       "    <tr>\n",
       "      <th>4</th>\n",
       "      <td>4</td>\n",
       "      <td>Data Analyst</td>\n",
       "      <td>Infrastructure Partnerships Australia</td>\n",
       "      <td>['Sydney', 'CBD, Inner West &amp; Eastern Suburbs'...</td>\n",
       "      <td>About Infrastructure Partnerships AustraliaInf...</td>\n",
       "    </tr>\n",
       "    <tr>\n",
       "      <th>...</th>\n",
       "      <td>...</td>\n",
       "      <td>...</td>\n",
       "      <td>...</td>\n",
       "      <td>...</td>\n",
       "      <td>...</td>\n",
       "    </tr>\n",
       "    <tr>\n",
       "      <th>1074</th>\n",
       "      <td>534</td>\n",
       "      <td>Data Analyst</td>\n",
       "      <td>Aurec</td>\n",
       "      <td>['ACT', 'Information &amp; Communication Technolog...</td>\n",
       "      <td>We are looking to engage a skilled and enthusi...</td>\n",
       "    </tr>\n",
       "    <tr>\n",
       "      <th>1075</th>\n",
       "      <td>535</td>\n",
       "      <td>Senior Data Analyst - NSW Government</td>\n",
       "      <td>Talenza</td>\n",
       "      <td>['Sydney', 'CBD, Inner West &amp; Eastern Suburbs'...</td>\n",
       "      <td>Senior Data Analyst - NSW GovernmentLocation: ...</td>\n",
       "    </tr>\n",
       "    <tr>\n",
       "      <th>1076</th>\n",
       "      <td>536</td>\n",
       "      <td>Principal Engineer (Knowledge Graph)</td>\n",
       "      <td>SEEK Limited</td>\n",
       "      <td>['Melbourne', 'CBD &amp; Inner Suburbs', 'Informat...</td>\n",
       "      <td>Company DescriptionAbout SEEKSEEK’s portfolio ...</td>\n",
       "    </tr>\n",
       "    <tr>\n",
       "      <th>1077</th>\n",
       "      <td>537</td>\n",
       "      <td>Data Management Analyst</td>\n",
       "      <td>Humanised Group</td>\n",
       "      <td>['Brisbane', 'CBD &amp; Inner Suburbs', 'Informati...</td>\n",
       "      <td>About the role:In this role you will be requir...</td>\n",
       "    </tr>\n",
       "    <tr>\n",
       "      <th>1078</th>\n",
       "      <td>538</td>\n",
       "      <td>Sales Analyst</td>\n",
       "      <td>B&amp;R Enclosures Pty Ltd</td>\n",
       "      <td>['Brisbane', 'CBD &amp; Inner Suburbs', 'Sales', '...</td>\n",
       "      <td>The Role Based in our Brisbane head office in ...</td>\n",
       "    </tr>\n",
       "  </tbody>\n",
       "</table>\n",
       "<p>1079 rows × 5 columns</p>\n",
       "</div>"
      ],
      "text/plain": [
       "      Unnamed: 0                             Job Title  \\\n",
       "0              0                        Data Scientist   \n",
       "1              1                          Data Analyst   \n",
       "2              2  Junior Business Intelligence Analyst   \n",
       "3              3                          Data Analyst   \n",
       "4              4                          Data Analyst   \n",
       "...          ...                                   ...   \n",
       "1074         534                          Data Analyst   \n",
       "1075         535  Senior Data Analyst - NSW Government   \n",
       "1076         536  Principal Engineer (Knowledge Graph)   \n",
       "1077         537               Data Management Analyst   \n",
       "1078         538                         Sales Analyst   \n",
       "\n",
       "                                    Company  \\\n",
       "0                               Fundo Loans   \n",
       "1                     AIA Australia Limited   \n",
       "2                     Hays Talent Solutions   \n",
       "3                            Atos Australia   \n",
       "4     Infrastructure Partnerships Australia   \n",
       "...                                     ...   \n",
       "1074                                  Aurec   \n",
       "1075                                Talenza   \n",
       "1076                           SEEK Limited   \n",
       "1077                        Humanised Group   \n",
       "1078                 B&R Enclosures Pty Ltd   \n",
       "\n",
       "                                       multiple_details  \\\n",
       "0     ['Sydney', 'CBD, Inner West & Eastern Suburbs'...   \n",
       "1     ['Melbourne', 'CBD & Inner Suburbs', 'Banking ...   \n",
       "2     ['Sydney', 'CBD, Inner West & Eastern Suburbs'...   \n",
       "3     ['Sydney', 'CBD, Inner West & Eastern Suburbs'...   \n",
       "4     ['Sydney', 'CBD, Inner West & Eastern Suburbs'...   \n",
       "...                                                 ...   \n",
       "1074  ['ACT', 'Information & Communication Technolog...   \n",
       "1075  ['Sydney', 'CBD, Inner West & Eastern Suburbs'...   \n",
       "1076  ['Melbourne', 'CBD & Inner Suburbs', 'Informat...   \n",
       "1077  ['Brisbane', 'CBD & Inner Suburbs', 'Informati...   \n",
       "1078  ['Brisbane', 'CBD & Inner Suburbs', 'Sales', '...   \n",
       "\n",
       "                                            Description  \n",
       "0     We are scaling up! An exciting opportunity exi...  \n",
       "1     The focus of this role is to provide support t...  \n",
       "2     Your new companyAt Hays, we are on a journey t...  \n",
       "3     About Atos:Atos is a global leader in digital ...  \n",
       "4     About Infrastructure Partnerships AustraliaInf...  \n",
       "...                                                 ...  \n",
       "1074  We are looking to engage a skilled and enthusi...  \n",
       "1075  Senior Data Analyst - NSW GovernmentLocation: ...  \n",
       "1076  Company DescriptionAbout SEEKSEEK’s portfolio ...  \n",
       "1077  About the role:In this role you will be requir...  \n",
       "1078  The Role Based in our Brisbane head office in ...  \n",
       "\n",
       "[1079 rows x 5 columns]"
      ]
     },
     "execution_count": 2,
     "metadata": {},
     "output_type": "execute_result"
    }
   ],
   "source": [
    "import pandas as pd\n",
    "\n",
    "data = pd.read_csv(\"kk_proj4_json.csv\")\n",
    "data"
   ]
  },
  {
   "cell_type": "code",
   "execution_count": 3,
   "metadata": {},
   "outputs": [
    {
     "data": {
      "text/html": [
       "<div>\n",
       "<style scoped>\n",
       "    .dataframe tbody tr th:only-of-type {\n",
       "        vertical-align: middle;\n",
       "    }\n",
       "\n",
       "    .dataframe tbody tr th {\n",
       "        vertical-align: top;\n",
       "    }\n",
       "\n",
       "    .dataframe thead th {\n",
       "        text-align: right;\n",
       "    }\n",
       "</style>\n",
       "<table border=\"1\" class=\"dataframe\">\n",
       "  <thead>\n",
       "    <tr style=\"text-align: right;\">\n",
       "      <th></th>\n",
       "      <th>Unnamed: 0</th>\n",
       "      <th>Job Title</th>\n",
       "      <th>Company</th>\n",
       "      <th>multiple_details</th>\n",
       "      <th>Description</th>\n",
       "    </tr>\n",
       "  </thead>\n",
       "  <tbody>\n",
       "    <tr>\n",
       "      <th>0</th>\n",
       "      <td>0</td>\n",
       "      <td>Data Scientist</td>\n",
       "      <td>Fundo Loans</td>\n",
       "      <td>['Sydney', 'CBD, Inner West &amp; Eastern Suburbs'...</td>\n",
       "      <td>We are scaling up! An exciting opportunity exi...</td>\n",
       "    </tr>\n",
       "    <tr>\n",
       "      <th>1</th>\n",
       "      <td>1</td>\n",
       "      <td>Data Analyst</td>\n",
       "      <td>AIA Australia Limited</td>\n",
       "      <td>['Melbourne', 'CBD &amp; Inner Suburbs', 'Banking ...</td>\n",
       "      <td>The focus of this role is to provide support t...</td>\n",
       "    </tr>\n",
       "    <tr>\n",
       "      <th>2</th>\n",
       "      <td>2</td>\n",
       "      <td>Junior Business Intelligence Analyst</td>\n",
       "      <td>Hays Talent Solutions</td>\n",
       "      <td>['Sydney', 'CBD, Inner West &amp; Eastern Suburbs'...</td>\n",
       "      <td>Your new companyAt Hays, we are on a journey t...</td>\n",
       "    </tr>\n",
       "    <tr>\n",
       "      <th>3</th>\n",
       "      <td>3</td>\n",
       "      <td>Data Analyst</td>\n",
       "      <td>Atos Australia</td>\n",
       "      <td>['Sydney', 'CBD, Inner West &amp; Eastern Suburbs'...</td>\n",
       "      <td>About Atos:Atos is a global leader in digital ...</td>\n",
       "    </tr>\n",
       "    <tr>\n",
       "      <th>4</th>\n",
       "      <td>4</td>\n",
       "      <td>Data Analyst</td>\n",
       "      <td>Infrastructure Partnerships Australia</td>\n",
       "      <td>['Sydney', 'CBD, Inner West &amp; Eastern Suburbs'...</td>\n",
       "      <td>About Infrastructure Partnerships AustraliaInf...</td>\n",
       "    </tr>\n",
       "  </tbody>\n",
       "</table>\n",
       "</div>"
      ],
      "text/plain": [
       "   Unnamed: 0                             Job Title  \\\n",
       "0           0                        Data Scientist   \n",
       "1           1                          Data Analyst   \n",
       "2           2  Junior Business Intelligence Analyst   \n",
       "3           3                          Data Analyst   \n",
       "4           4                          Data Analyst   \n",
       "\n",
       "                                 Company  \\\n",
       "0                            Fundo Loans   \n",
       "1                  AIA Australia Limited   \n",
       "2                  Hays Talent Solutions   \n",
       "3                         Atos Australia   \n",
       "4  Infrastructure Partnerships Australia   \n",
       "\n",
       "                                    multiple_details  \\\n",
       "0  ['Sydney', 'CBD, Inner West & Eastern Suburbs'...   \n",
       "1  ['Melbourne', 'CBD & Inner Suburbs', 'Banking ...   \n",
       "2  ['Sydney', 'CBD, Inner West & Eastern Suburbs'...   \n",
       "3  ['Sydney', 'CBD, Inner West & Eastern Suburbs'...   \n",
       "4  ['Sydney', 'CBD, Inner West & Eastern Suburbs'...   \n",
       "\n",
       "                                         Description  \n",
       "0  We are scaling up! An exciting opportunity exi...  \n",
       "1  The focus of this role is to provide support t...  \n",
       "2  Your new companyAt Hays, we are on a journey t...  \n",
       "3  About Atos:Atos is a global leader in digital ...  \n",
       "4  About Infrastructure Partnerships AustraliaInf...  "
      ]
     },
     "execution_count": 3,
     "metadata": {},
     "output_type": "execute_result"
    }
   ],
   "source": [
    "data.head()"
   ]
  },
  {
   "cell_type": "code",
   "execution_count": 4,
   "metadata": {},
   "outputs": [
    {
     "data": {
      "text/plain": [
       "array([\"['Sydney', 'CBD, Inner West & Eastern Suburbs', 'Information & Communication Technology', 'Engineering - Software', '$110,000 - $149,999', 'Full time']\",\n",
       "       \"['Melbourne', 'CBD & Inner Suburbs', 'Banking & Financial Services', 'Analysis & Reporting', 'Full time']\",\n",
       "       \"['Sydney', 'CBD, Inner West & Eastern Suburbs', 'Information & Communication Technology', 'Business/Systems Analysts', 'Full time']\",\n",
       "       \"['Sydney', 'CBD, Inner West & Eastern Suburbs', 'Information & Communication Technology', 'Business/Systems Analysts', 'Full time']\",\n",
       "       \"['Sydney', 'CBD, Inner West & Eastern Suburbs', 'Consulting & Strategy', 'Analysts', 'Full time']\"],\n",
       "      dtype=object)"
      ]
     },
     "execution_count": 4,
     "metadata": {},
     "output_type": "execute_result"
    }
   ],
   "source": [
    "# string form of list\n",
    "data.multiple_details.head().values"
   ]
  },
  {
   "cell_type": "code",
   "execution_count": 5,
   "metadata": {},
   "outputs": [],
   "source": [
    "# parse string into list using ast\n",
    "import ast\n",
    "data['multiple_details_lst'] = data.multiple_details.apply(lambda x: ast.literal_eval(x))"
   ]
  },
  {
   "cell_type": "code",
   "execution_count": 6,
   "metadata": {},
   "outputs": [
    {
     "data": {
      "text/plain": [
       "5    653\n",
       "6    277\n",
       "4    149\n",
       "Name: items, dtype: int64"
      ]
     },
     "execution_count": 6,
     "metadata": {},
     "output_type": "execute_result"
    }
   ],
   "source": [
    "# check length of lists\n",
    "data['items'] = data.multiple_details_lst.apply(lambda x:len(x))\n",
    "data['items'].value_counts()"
   ]
  },
  {
   "cell_type": "code",
   "execution_count": 7,
   "metadata": {},
   "outputs": [
    {
     "data": {
      "text/plain": [
       "array([list(['Adelaide', 'Consulting & Strategy', 'Analysts', 'Full time']),\n",
       "       list(['Melbourne', 'Accounting', 'Analysis & Reporting', 'Contract/Temp']),\n",
       "       list(['Adelaide', 'Information & Communication Technology', 'Business/Systems Analysts', 'Full time']),\n",
       "       list(['Gosford & Central Coast', 'Manufacturing, Transport & Logistics', 'Analysis & Reporting', 'Contract/Temp']),\n",
       "       list(['Adelaide', 'Information & Communication Technology', 'Business/Systems Analysts', 'Full time']),\n",
       "       list(['Adelaide', 'Accounting', 'Business Services & Corporate Advisory', 'Full time']),\n",
       "       list(['Sydney', 'Information & Communication Technology', 'Business/Systems Analysts', 'Full time']),\n",
       "       list(['Melbourne', 'Information & Communication Technology', 'Help Desk & IT Support', 'Contract/Temp']),\n",
       "       list(['Melbourne', 'Information & Communication Technology', 'Business/Systems Analysts', 'Full time']),\n",
       "       list(['Melbourne', 'Information & Communication Technology', 'Business/Systems Analysts', 'Full time'])],\n",
       "      dtype=object)"
      ]
     },
     "execution_count": 7,
     "metadata": {},
     "output_type": "execute_result"
    }
   ],
   "source": [
    "# hypothesis - lists of different lengths have different features.\n",
    "# features are based on their index in the list\n",
    "# features share the same index in the list. \n",
    "\n",
    "# region, industry, role_type, offer_type\n",
    "data.loc[(data['items']==4),'multiple_details_lst'].sample(10).values"
   ]
  },
  {
   "cell_type": "code",
   "execution_count": 8,
   "metadata": {},
   "outputs": [
    {
     "data": {
      "text/plain": [
       "array([list(['Melbourne', 'CBD & Inner Suburbs', 'Information & Communication Technology', 'Other', 'Full time']),\n",
       "       list(['Sydney', 'CBD, Inner West & Eastern Suburbs', 'Information & Communication Technology', 'Business/Systems Analysts', 'Contract/Temp']),\n",
       "       list(['Melbourne', 'CBD & Inner Suburbs', 'Insurance & Superannuation', 'Other', 'Full time']),\n",
       "       list(['Melbourne', 'Information & Communication Technology', 'Business/Systems Analysts', 'Enjoy a Flexi Day on us!', 'Full time']),\n",
       "       list(['Sydney', 'CBD, Inner West & Eastern Suburbs', 'Insurance & Superannuation', 'Actuarial', 'Full time']),\n",
       "       list(['Sydney', 'CBD, Inner West & Eastern Suburbs', 'Information & Communication Technology', 'Business/Systems Analysts', 'Part time']),\n",
       "       list(['Brisbane', 'CBD & Inner Suburbs', 'Information & Communication Technology', 'Database Development & Administration', 'Full time']),\n",
       "       list(['Brisbane', 'CBD & Inner Suburbs', 'Information & Communication Technology', 'Other', 'Contract/Temp']),\n",
       "       list(['Sydney', 'Ryde & Macquarie Park', 'Marketing & Communications', 'Market Research & Analysis', 'Full time']),\n",
       "       list(['Brisbane', 'CBD & Inner Suburbs', 'Information & Communication Technology', 'Database Development & Administration', 'Full time'])],\n",
       "      dtype=object)"
      ]
     },
     "execution_count": 8,
     "metadata": {},
     "output_type": "execute_result"
    }
   ],
   "source": [
    "# region, sub-region, industry, role_type, offer_type\n",
    "data.loc[(data['items']==5),'multiple_details_lst'].sample(10).values"
   ]
  },
  {
   "cell_type": "code",
   "execution_count": 9,
   "metadata": {},
   "outputs": [
    {
     "data": {
      "text/plain": [
       "array([list(['Melbourne', 'CBD & Inner Suburbs', 'Government & Defence', 'Government - Federal', '$75,200 to $84,468 plus 15.4% super ', 'Full time']),\n",
       "       list(['Sydney', 'North Shore & Northern Beaches', 'Information & Communication Technology', 'Business/Systems Analysts', '$110000.00 - $120k p.a.', 'Full time']),\n",
       "       list(['Melbourne', 'CBD & Inner Suburbs', 'Information & Communication Technology', 'Business/Systems Analysts', 'Up to $140,000 + Super', 'Full time']),\n",
       "       list(['Sydney', 'CBD, Inner West & Eastern Suburbs', 'Information & Communication Technology', 'Engineering - Software', 'Base + Super + Profit Share', 'Full time']),\n",
       "       list(['Sydney', 'CBD, Inner West & Eastern Suburbs', 'Information & Communication Technology', 'Database Development & Administration', '$935 per day (inclusive of super)', 'Contract/Temp']),\n",
       "       list(['Sydney', 'CBD, Inner West & Eastern Suburbs', 'Information & Communication Technology', 'Database Development & Administration', '$700 - $800 per day.', 'Contract/Temp']),\n",
       "       list(['Sydney', 'CBD, Inner West & Eastern Suburbs', 'Information & Communication Technology', 'Business/Systems Analysts', ' Competitive Salary $$ (Base + super + Bonus)', 'Full time']),\n",
       "       list(['Sydney', 'Parramatta & Western Suburbs', 'Information & Communication Technology', 'Business/Systems Analysts', '$55 - $60 per hour', 'Contract/Temp']),\n",
       "       list(['Melbourne', 'CBD & Inner Suburbs', 'Real Estate & Property', 'Analysts', 'Competitive package, benefits, flex + progression', 'Full time']),\n",
       "       list(['Sydney', 'CBD, Inner West & Eastern Suburbs', 'Marketing & Communications', 'Digital & Search Marketing', '$80,000 - $119,999', 'Full time'])],\n",
       "      dtype=object)"
      ]
     },
     "execution_count": 9,
     "metadata": {},
     "output_type": "execute_result"
    }
   ],
   "source": [
    "# region, sub-region, industry, role_type, renumeration, offer_type\n",
    "data.loc[(data['items']==6),'multiple_details_lst'].sample(10).values"
   ]
  },
  {
   "cell_type": "code",
   "execution_count": 10,
   "metadata": {},
   "outputs": [
    {
     "data": {
      "text/plain": [
       "array([{'region': 'Sydney', 'sub_region': 'CBD, Inner West & Eastern Suburbs', 'industry': 'Information & Communication Technology', 'role_type': 'Engineering - Software', 'renumeration': '$110,000 - $149,999', 'offer_type': 'Full time'},\n",
       "       {'region': 'Melbourne', 'sub_region': 'CBD & Inner Suburbs', 'industry': 'Banking & Financial Services', 'role_type': 'Analysis & Reporting', 'offer_type': 'Full time'},\n",
       "       {'region': 'Sydney', 'sub_region': 'CBD, Inner West & Eastern Suburbs', 'industry': 'Information & Communication Technology', 'role_type': 'Business/Systems Analysts', 'offer_type': 'Full time'},\n",
       "       {'region': 'Sydney', 'sub_region': 'CBD, Inner West & Eastern Suburbs', 'industry': 'Information & Communication Technology', 'role_type': 'Business/Systems Analysts', 'offer_type': 'Full time'},\n",
       "       {'region': 'Sydney', 'sub_region': 'CBD, Inner West & Eastern Suburbs', 'industry': 'Consulting & Strategy', 'role_type': 'Analysts', 'offer_type': 'Full time'}],\n",
       "      dtype=object)"
      ]
     },
     "execution_count": 10,
     "metadata": {},
     "output_type": "execute_result"
    }
   ],
   "source": [
    "# example parser function\n",
    "def list_to_dict(row):\n",
    "    d = dict()\n",
    "    if row['items'] ==4:\n",
    "        # region, industry, role_type, offer_type\n",
    "        d['region'] = row['multiple_details_lst'][0]\n",
    "        d['industry'] = row['multiple_details_lst'][1]\n",
    "        d['role_type'] = row['multiple_details_lst'][2]\n",
    "        d['offer_type'] = row['multiple_details_lst'][3]\n",
    "    if row['items'] ==5:\n",
    "        # region, sub_region, industry, role_type, offer_type\n",
    "        d['region'] = row['multiple_details_lst'][0]\n",
    "        d['sub_region'] = row['multiple_details_lst'][1]\n",
    "        d['industry'] = row['multiple_details_lst'][2]\n",
    "        d['role_type'] = row['multiple_details_lst'][3]\n",
    "        d['offer_type'] = row['multiple_details_lst'][4]\n",
    "    if row['items'] ==6:\n",
    "        # region, sub-region, industry, role_type, renumeration, offer_type\n",
    "        d['region'] = row['multiple_details_lst'][0]\n",
    "        d['sub_region'] = row['multiple_details_lst'][1]\n",
    "        d['industry'] = row['multiple_details_lst'][2]\n",
    "        d['role_type'] = row['multiple_details_lst'][3]\n",
    "        d['renumeration'] = row['multiple_details_lst'][4] \n",
    "        d['offer_type'] = row['multiple_details_lst'][5]        \n",
    "    return d\n",
    "\n",
    "data['multiple_items_dict'] = data.apply(list_to_dict,axis=1)\n",
    "data['multiple_items_dict'].head().values"
   ]
  },
  {
   "cell_type": "code",
   "execution_count": 11,
   "metadata": {},
   "outputs": [],
   "source": [
    "# and then pull out of dict to rows using get (for error managing if the dict doesn't have that key)\n",
    "data['region'] = data.multiple_items_dict.apply(lambda x: x.get('region'))\n",
    "data['sub_region'] = data.multiple_items_dict.apply(lambda x: x.get('sub_region'))\n",
    "data['industry'] = data.multiple_items_dict.apply(lambda x: x.get('industry'))\n",
    "data['role_type'] = data.multiple_items_dict.apply(lambda x: x.get('role_type'))\n",
    "data['renumeration'] = data.multiple_items_dict.apply(lambda x: x.get('renumeration'))\n",
    "data['offer_type'] = data.multiple_items_dict.apply(lambda x: x.get('offer_type'))"
   ]
  },
  {
   "cell_type": "code",
   "execution_count": 12,
   "metadata": {},
   "outputs": [
    {
     "data": {
      "text/plain": [
       "$75,200 to $84,468 plus 15.4% super                   8\n",
       "Attractive salary package + bonus + benefits          6\n",
       "$70,000 - $75,000                                     4\n",
       "$130,000 - $149,999                                   4\n",
       "Competitive Salary & Flexible Working Arrangements    4\n",
       "                                                     ..\n",
       "$600 - $725 per day                                   1\n",
       "$836 per day + super                                  1\n",
       "$850 - $875 p.d. incl. Super                          1\n",
       "$100 - $106.25 p.h.                                   1\n",
       "$110k - $140k p.a.                                    1\n",
       "Name: renumeration, Length: 186, dtype: int64"
      ]
     },
     "execution_count": 12,
     "metadata": {},
     "output_type": "execute_result"
    }
   ],
   "source": [
    "# you will still need regex to get the numeric values out\n",
    "data.renumeration.value_counts()"
   ]
  },
  {
   "cell_type": "code",
   "execution_count": 13,
   "metadata": {},
   "outputs": [
    {
     "data": {
      "text/plain": [
       "0               $110,000 - $149,999\n",
       "1                              None\n",
       "2                              None\n",
       "3                              None\n",
       "4                              None\n",
       "                   ...             \n",
       "1074                           None\n",
       "1075               $700 - $780 p.d.\n",
       "1076    Base + Super + Profit Share\n",
       "1077                           None\n",
       "1078                           None\n",
       "Name: renumeration, Length: 1079, dtype: object"
      ]
     },
     "execution_count": 13,
     "metadata": {},
     "output_type": "execute_result"
    }
   ],
   "source": [
    "data['renumeration']"
   ]
  },
  {
   "cell_type": "code",
   "execution_count": 14,
   "metadata": {},
   "outputs": [
    {
     "data": {
      "text/plain": [
       "Full time          812\n",
       "Contract/Temp      256\n",
       "Part time            6\n",
       "Casual/Vacation      5\n",
       "Name: offer_type, dtype: int64"
      ]
     },
     "execution_count": 14,
     "metadata": {},
     "output_type": "execute_result"
    }
   ],
   "source": [
    "# maybe there's some fun in looking at offer types\n",
    "data.offer_type.value_counts()"
   ]
  },
  {
   "cell_type": "code",
   "execution_count": 15,
   "metadata": {},
   "outputs": [
    {
     "data": {
      "text/html": [
       "<div>\n",
       "<style scoped>\n",
       "    .dataframe tbody tr th:only-of-type {\n",
       "        vertical-align: middle;\n",
       "    }\n",
       "\n",
       "    .dataframe tbody tr th {\n",
       "        vertical-align: top;\n",
       "    }\n",
       "\n",
       "    .dataframe thead th {\n",
       "        text-align: right;\n",
       "    }\n",
       "</style>\n",
       "<table border=\"1\" class=\"dataframe\">\n",
       "  <thead>\n",
       "    <tr style=\"text-align: right;\">\n",
       "      <th></th>\n",
       "      <th>Unnamed: 0</th>\n",
       "      <th>Job Title</th>\n",
       "      <th>Company</th>\n",
       "      <th>multiple_details</th>\n",
       "      <th>Description</th>\n",
       "      <th>multiple_details_lst</th>\n",
       "      <th>items</th>\n",
       "      <th>multiple_items_dict</th>\n",
       "      <th>region</th>\n",
       "      <th>sub_region</th>\n",
       "      <th>industry</th>\n",
       "      <th>role_type</th>\n",
       "      <th>renumeration</th>\n",
       "      <th>offer_type</th>\n",
       "    </tr>\n",
       "  </thead>\n",
       "  <tbody>\n",
       "    <tr>\n",
       "      <th>0</th>\n",
       "      <td>0</td>\n",
       "      <td>Data Scientist</td>\n",
       "      <td>Fundo Loans</td>\n",
       "      <td>['Sydney', 'CBD, Inner West &amp; Eastern Suburbs'...</td>\n",
       "      <td>We are scaling up! An exciting opportunity exi...</td>\n",
       "      <td>[Sydney, CBD, Inner West &amp; Eastern Suburbs, In...</td>\n",
       "      <td>6</td>\n",
       "      <td>{'region': 'Sydney', 'sub_region': 'CBD, Inner...</td>\n",
       "      <td>Sydney</td>\n",
       "      <td>CBD, Inner West &amp; Eastern Suburbs</td>\n",
       "      <td>Information &amp; Communication Technology</td>\n",
       "      <td>Engineering - Software</td>\n",
       "      <td>$110,000 - $149,999</td>\n",
       "      <td>Full time</td>\n",
       "    </tr>\n",
       "    <tr>\n",
       "      <th>1</th>\n",
       "      <td>1</td>\n",
       "      <td>Data Analyst</td>\n",
       "      <td>AIA Australia Limited</td>\n",
       "      <td>['Melbourne', 'CBD &amp; Inner Suburbs', 'Banking ...</td>\n",
       "      <td>The focus of this role is to provide support t...</td>\n",
       "      <td>[Melbourne, CBD &amp; Inner Suburbs, Banking &amp; Fin...</td>\n",
       "      <td>5</td>\n",
       "      <td>{'region': 'Melbourne', 'sub_region': 'CBD &amp; I...</td>\n",
       "      <td>Melbourne</td>\n",
       "      <td>CBD &amp; Inner Suburbs</td>\n",
       "      <td>Banking &amp; Financial Services</td>\n",
       "      <td>Analysis &amp; Reporting</td>\n",
       "      <td>None</td>\n",
       "      <td>Full time</td>\n",
       "    </tr>\n",
       "    <tr>\n",
       "      <th>2</th>\n",
       "      <td>2</td>\n",
       "      <td>Junior Business Intelligence Analyst</td>\n",
       "      <td>Hays Talent Solutions</td>\n",
       "      <td>['Sydney', 'CBD, Inner West &amp; Eastern Suburbs'...</td>\n",
       "      <td>Your new companyAt Hays, we are on a journey t...</td>\n",
       "      <td>[Sydney, CBD, Inner West &amp; Eastern Suburbs, In...</td>\n",
       "      <td>5</td>\n",
       "      <td>{'region': 'Sydney', 'sub_region': 'CBD, Inner...</td>\n",
       "      <td>Sydney</td>\n",
       "      <td>CBD, Inner West &amp; Eastern Suburbs</td>\n",
       "      <td>Information &amp; Communication Technology</td>\n",
       "      <td>Business/Systems Analysts</td>\n",
       "      <td>None</td>\n",
       "      <td>Full time</td>\n",
       "    </tr>\n",
       "    <tr>\n",
       "      <th>3</th>\n",
       "      <td>3</td>\n",
       "      <td>Data Analyst</td>\n",
       "      <td>Atos Australia</td>\n",
       "      <td>['Sydney', 'CBD, Inner West &amp; Eastern Suburbs'...</td>\n",
       "      <td>About Atos:Atos is a global leader in digital ...</td>\n",
       "      <td>[Sydney, CBD, Inner West &amp; Eastern Suburbs, In...</td>\n",
       "      <td>5</td>\n",
       "      <td>{'region': 'Sydney', 'sub_region': 'CBD, Inner...</td>\n",
       "      <td>Sydney</td>\n",
       "      <td>CBD, Inner West &amp; Eastern Suburbs</td>\n",
       "      <td>Information &amp; Communication Technology</td>\n",
       "      <td>Business/Systems Analysts</td>\n",
       "      <td>None</td>\n",
       "      <td>Full time</td>\n",
       "    </tr>\n",
       "    <tr>\n",
       "      <th>4</th>\n",
       "      <td>4</td>\n",
       "      <td>Data Analyst</td>\n",
       "      <td>Infrastructure Partnerships Australia</td>\n",
       "      <td>['Sydney', 'CBD, Inner West &amp; Eastern Suburbs'...</td>\n",
       "      <td>About Infrastructure Partnerships AustraliaInf...</td>\n",
       "      <td>[Sydney, CBD, Inner West &amp; Eastern Suburbs, Co...</td>\n",
       "      <td>5</td>\n",
       "      <td>{'region': 'Sydney', 'sub_region': 'CBD, Inner...</td>\n",
       "      <td>Sydney</td>\n",
       "      <td>CBD, Inner West &amp; Eastern Suburbs</td>\n",
       "      <td>Consulting &amp; Strategy</td>\n",
       "      <td>Analysts</td>\n",
       "      <td>None</td>\n",
       "      <td>Full time</td>\n",
       "    </tr>\n",
       "  </tbody>\n",
       "</table>\n",
       "</div>"
      ],
      "text/plain": [
       "   Unnamed: 0                             Job Title  \\\n",
       "0           0                        Data Scientist   \n",
       "1           1                          Data Analyst   \n",
       "2           2  Junior Business Intelligence Analyst   \n",
       "3           3                          Data Analyst   \n",
       "4           4                          Data Analyst   \n",
       "\n",
       "                                 Company  \\\n",
       "0                            Fundo Loans   \n",
       "1                  AIA Australia Limited   \n",
       "2                  Hays Talent Solutions   \n",
       "3                         Atos Australia   \n",
       "4  Infrastructure Partnerships Australia   \n",
       "\n",
       "                                    multiple_details  \\\n",
       "0  ['Sydney', 'CBD, Inner West & Eastern Suburbs'...   \n",
       "1  ['Melbourne', 'CBD & Inner Suburbs', 'Banking ...   \n",
       "2  ['Sydney', 'CBD, Inner West & Eastern Suburbs'...   \n",
       "3  ['Sydney', 'CBD, Inner West & Eastern Suburbs'...   \n",
       "4  ['Sydney', 'CBD, Inner West & Eastern Suburbs'...   \n",
       "\n",
       "                                         Description  \\\n",
       "0  We are scaling up! An exciting opportunity exi...   \n",
       "1  The focus of this role is to provide support t...   \n",
       "2  Your new companyAt Hays, we are on a journey t...   \n",
       "3  About Atos:Atos is a global leader in digital ...   \n",
       "4  About Infrastructure Partnerships AustraliaInf...   \n",
       "\n",
       "                                multiple_details_lst  items  \\\n",
       "0  [Sydney, CBD, Inner West & Eastern Suburbs, In...      6   \n",
       "1  [Melbourne, CBD & Inner Suburbs, Banking & Fin...      5   \n",
       "2  [Sydney, CBD, Inner West & Eastern Suburbs, In...      5   \n",
       "3  [Sydney, CBD, Inner West & Eastern Suburbs, In...      5   \n",
       "4  [Sydney, CBD, Inner West & Eastern Suburbs, Co...      5   \n",
       "\n",
       "                                 multiple_items_dict     region  \\\n",
       "0  {'region': 'Sydney', 'sub_region': 'CBD, Inner...     Sydney   \n",
       "1  {'region': 'Melbourne', 'sub_region': 'CBD & I...  Melbourne   \n",
       "2  {'region': 'Sydney', 'sub_region': 'CBD, Inner...     Sydney   \n",
       "3  {'region': 'Sydney', 'sub_region': 'CBD, Inner...     Sydney   \n",
       "4  {'region': 'Sydney', 'sub_region': 'CBD, Inner...     Sydney   \n",
       "\n",
       "                          sub_region                                industry  \\\n",
       "0  CBD, Inner West & Eastern Suburbs  Information & Communication Technology   \n",
       "1                CBD & Inner Suburbs            Banking & Financial Services   \n",
       "2  CBD, Inner West & Eastern Suburbs  Information & Communication Technology   \n",
       "3  CBD, Inner West & Eastern Suburbs  Information & Communication Technology   \n",
       "4  CBD, Inner West & Eastern Suburbs                   Consulting & Strategy   \n",
       "\n",
       "                   role_type         renumeration offer_type  \n",
       "0     Engineering - Software  $110,000 - $149,999  Full time  \n",
       "1       Analysis & Reporting                 None  Full time  \n",
       "2  Business/Systems Analysts                 None  Full time  \n",
       "3  Business/Systems Analysts                 None  Full time  \n",
       "4                   Analysts                 None  Full time  "
      ]
     },
     "execution_count": 15,
     "metadata": {},
     "output_type": "execute_result"
    }
   ],
   "source": [
    "data.head(5)"
   ]
  },
  {
   "cell_type": "code",
   "execution_count": 16,
   "metadata": {},
   "outputs": [
    {
     "data": {
      "text/plain": [
       "'$110,000 - $149,999'"
      ]
     },
     "execution_count": 16,
     "metadata": {},
     "output_type": "execute_result"
    }
   ],
   "source": [
    "data['renumeration'][0]"
   ]
  },
  {
   "cell_type": "code",
   "execution_count": 17,
   "metadata": {},
   "outputs": [],
   "source": [
    "data['renumeration'][1]  #it's None and you have 802 of None values"
   ]
  },
  {
   "cell_type": "code",
   "execution_count": 18,
   "metadata": {},
   "outputs": [
    {
     "data": {
      "text/plain": [
       "Unnamed: 0                0\n",
       "Job Title                 0\n",
       "Company                   0\n",
       "multiple_details          0\n",
       "Description               0\n",
       "multiple_details_lst      0\n",
       "items                     0\n",
       "multiple_items_dict       0\n",
       "region                    0\n",
       "sub_region              149\n",
       "industry                  0\n",
       "role_type                 0\n",
       "renumeration            802\n",
       "offer_type                0\n",
       "dtype: int64"
      ]
     },
     "execution_count": 18,
     "metadata": {},
     "output_type": "execute_result"
    }
   ],
   "source": [
    "data.isna().sum()"
   ]
  },
  {
   "cell_type": "code",
   "execution_count": 19,
   "metadata": {},
   "outputs": [],
   "source": [
    "data['salary'] = data['renumeration'].fillna('90000')"
   ]
  },
  {
   "cell_type": "code",
   "execution_count": 20,
   "metadata": {},
   "outputs": [
    {
     "data": {
      "text/plain": [
       "['110,000', '149,999']"
      ]
     },
     "execution_count": 20,
     "metadata": {},
     "output_type": "execute_result"
    }
   ],
   "source": [
    "import re\n",
    "re.findall(r'[0-9,.]+', data.salary[0])"
   ]
  },
  {
   "cell_type": "code",
   "execution_count": 21,
   "metadata": {},
   "outputs": [
    {
     "data": {
      "text/plain": [
       "['110,000', '149,999']"
      ]
     },
     "execution_count": 21,
     "metadata": {},
     "output_type": "execute_result"
    }
   ],
   "source": [
    "re.findall(r'[0-9,.]+', data.renumeration[0])"
   ]
  },
  {
   "cell_type": "code",
   "execution_count": 22,
   "metadata": {},
   "outputs": [
    {
     "data": {
      "text/plain": [
       "['90000']"
      ]
     },
     "execution_count": 22,
     "metadata": {},
     "output_type": "execute_result"
    }
   ],
   "source": [
    "re.findall(r'[0-9,.]+', data.salary[1])"
   ]
  },
  {
   "cell_type": "code",
   "execution_count": 23,
   "metadata": {},
   "outputs": [
    {
     "ename": "TypeError",
     "evalue": "expected string or bytes-like object",
     "output_type": "error",
     "traceback": [
      "\u001b[1;31m---------------------------------------------------------------------------\u001b[0m",
      "\u001b[1;31mTypeError\u001b[0m                                 Traceback (most recent call last)",
      "\u001b[1;32m<ipython-input-23-b59567d0c08d>\u001b[0m in \u001b[0;36m<module>\u001b[1;34m\u001b[0m\n\u001b[1;32m----> 1\u001b[1;33m \u001b[0mre\u001b[0m\u001b[1;33m.\u001b[0m\u001b[0mfindall\u001b[0m\u001b[1;33m(\u001b[0m\u001b[1;34mr'[0-9,.]+'\u001b[0m\u001b[1;33m,\u001b[0m \u001b[0mdata\u001b[0m\u001b[1;33m.\u001b[0m\u001b[0mrenumeration\u001b[0m\u001b[1;33m[\u001b[0m\u001b[1;36m1\u001b[0m\u001b[1;33m]\u001b[0m\u001b[1;33m)\u001b[0m  \u001b[1;31m#just show you the difference here: renumeration[1] is 'None',\u001b[0m\u001b[1;33m\u001b[0m\u001b[1;33m\u001b[0m\u001b[0m\n\u001b[0m\u001b[0;32m      2\u001b[0m                                              \u001b[1;31m#salary[1] is '90000'\u001b[0m\u001b[1;33m\u001b[0m\u001b[1;33m\u001b[0m\u001b[1;33m\u001b[0m\u001b[0m\n",
      "\u001b[1;32mD:\\ProgramData\\Anaconda3\\lib\\re.py\u001b[0m in \u001b[0;36mfindall\u001b[1;34m(pattern, string, flags)\u001b[0m\n\u001b[0;32m    239\u001b[0m \u001b[1;33m\u001b[0m\u001b[0m\n\u001b[0;32m    240\u001b[0m     Empty matches are included in the result.\"\"\"\n\u001b[1;32m--> 241\u001b[1;33m     \u001b[1;32mreturn\u001b[0m \u001b[0m_compile\u001b[0m\u001b[1;33m(\u001b[0m\u001b[0mpattern\u001b[0m\u001b[1;33m,\u001b[0m \u001b[0mflags\u001b[0m\u001b[1;33m)\u001b[0m\u001b[1;33m.\u001b[0m\u001b[0mfindall\u001b[0m\u001b[1;33m(\u001b[0m\u001b[0mstring\u001b[0m\u001b[1;33m)\u001b[0m\u001b[1;33m\u001b[0m\u001b[1;33m\u001b[0m\u001b[0m\n\u001b[0m\u001b[0;32m    242\u001b[0m \u001b[1;33m\u001b[0m\u001b[0m\n\u001b[0;32m    243\u001b[0m \u001b[1;32mdef\u001b[0m \u001b[0mfinditer\u001b[0m\u001b[1;33m(\u001b[0m\u001b[0mpattern\u001b[0m\u001b[1;33m,\u001b[0m \u001b[0mstring\u001b[0m\u001b[1;33m,\u001b[0m \u001b[0mflags\u001b[0m\u001b[1;33m=\u001b[0m\u001b[1;36m0\u001b[0m\u001b[1;33m)\u001b[0m\u001b[1;33m:\u001b[0m\u001b[1;33m\u001b[0m\u001b[1;33m\u001b[0m\u001b[0m\n",
      "\u001b[1;31mTypeError\u001b[0m: expected string or bytes-like object"
     ]
    }
   ],
   "source": [
    "re.findall(r'[0-9,.]+', data.renumeration[1])  #just show you the difference here: renumeration[1] is 'None', \n",
    "                                             #salary[1] is '90000'"
   ]
  },
  {
   "cell_type": "code",
   "execution_count": null,
   "metadata": {},
   "outputs": [],
   "source": [
    "# Working with Anita\n",
    "\n",
    "\n",
    "def average_value(string_salary):\n",
    "    if len(re.findall(r'[0-9,.]+',string_salary)) == 1:\n",
    "        return float(re.findall(r'[0-9,]+',string_salary)[0].replace(',',''))\n",
    "    if len(re.findall(r'[0-9,.]+',string_salary)) == 2:\n",
    "        values = []\n",
    "        for string in re.findall(r'[0-9,.]+',string_salary):\n",
    "            values.append(string.replace(',',''))\n",
    "        return ((float(values[0])+float(values[1]))/2)\n",
    "    else:\n",
    "        return (float(90000))"
   ]
  },
  {
   "cell_type": "code",
   "execution_count": null,
   "metadata": {},
   "outputs": [],
   "source": [
    "def salary_converter(salary):\n",
    "    try:\n",
    "        if type(salary) == str:\n",
    "    #         job_salary = str('90000')\n",
    "            if len(re.findall(r'[0-9]+',salary)) >= 1:\n",
    "                if 'year' in salary:\n",
    "                    job_salary = average_value(salary)\n",
    "                elif 'month' in salary:\n",
    "                    job_salary = average_value(salary)*12\n",
    "                elif 'week' in salary:\n",
    "                    job_salary = average_value(salary)*52\n",
    "                elif 'day' in salary:\n",
    "                    job_salary = average_value(salary)*52*5\n",
    "                elif 'hour' in salary:\n",
    "                    job_salary = average_value(salary)*52*38\n",
    "                else:\n",
    "                    job_salary = average_value(salary)\n",
    "            else:\n",
    "                job_salary = float('90000')\n",
    "        else:\n",
    "            job_salary = float(salary)\n",
    "        if job_salary < 300:\n",
    "            job_salary = job_salary * 1000\n",
    "        if job_salary < 10000:\n",
    "            job_salary = 90000\n",
    "        return job_salary\n",
    "    except:\n",
    "        return float(90000)"
   ]
  },
  {
   "cell_type": "code",
   "execution_count": null,
   "metadata": {},
   "outputs": [],
   "source": [
    "data.salary"
   ]
  },
  {
   "cell_type": "code",
   "execution_count": null,
   "metadata": {},
   "outputs": [],
   "source": [
    "for i in data.salary:\n",
    "    print(salary_converter(i))"
   ]
  },
  {
   "cell_type": "code",
   "execution_count": null,
   "metadata": {},
   "outputs": [],
   "source": [
    "data['salary'] = data.salary.map(salary_converter)\n",
    "data['salary'].value_counts()"
   ]
  },
  {
   "cell_type": "code",
   "execution_count": null,
   "metadata": {},
   "outputs": [],
   "source": [
    "salary_export = data[['salary']]\n",
    "salary_export.columns = (['salary_import'])\n",
    "salary_export.to_csv('salary_import.csv', index = False)\n",
    "\n",
    "pd.read_csv('salary_import.csv')['salary_import']\n"
   ]
  },
  {
   "cell_type": "code",
   "execution_count": null,
   "metadata": {},
   "outputs": [],
   "source": [
    "import seaborn as sns"
   ]
  },
  {
   "cell_type": "code",
   "execution_count": null,
   "metadata": {},
   "outputs": [],
   "source": [
    "sns.distplot(data.salary)"
   ]
  },
  {
   "cell_type": "code",
   "execution_count": null,
   "metadata": {},
   "outputs": [],
   "source": []
  },
  {
   "cell_type": "code",
   "execution_count": null,
   "metadata": {},
   "outputs": [],
   "source": []
  },
  {
   "cell_type": "code",
   "execution_count": null,
   "metadata": {},
   "outputs": [],
   "source": []
  },
  {
   "cell_type": "code",
   "execution_count": null,
   "metadata": {},
   "outputs": [],
   "source": []
  },
  {
   "cell_type": "code",
   "execution_count": null,
   "metadata": {},
   "outputs": [],
   "source": []
  },
  {
   "cell_type": "code",
   "execution_count": null,
   "metadata": {},
   "outputs": [],
   "source": []
  },
  {
   "cell_type": "code",
   "execution_count": null,
   "metadata": {},
   "outputs": [],
   "source": []
  },
  {
   "cell_type": "code",
   "execution_count": null,
   "metadata": {},
   "outputs": [],
   "source": []
  },
  {
   "cell_type": "code",
   "execution_count": null,
   "metadata": {},
   "outputs": [],
   "source": [
    "# data['renumeration02'] = data.renumeration.map(salary_converter,data['renumeration'])\n",
    "\n",
    "# data['renumeration02'] = data.renumeration.map(salary_converter,data['renumeration'])\n",
    "\n",
    "data['renumeration02'] = data.renumeration.map(salary_converter)\n",
    "data['renumeration02']"
   ]
  },
  {
   "cell_type": "code",
   "execution_count": null,
   "metadata": {},
   "outputs": [],
   "source": [
    "data['renumeration02'].value_counts()"
   ]
  },
  {
   "cell_type": "code",
   "execution_count": null,
   "metadata": {},
   "outputs": [],
   "source": []
  },
  {
   "cell_type": "code",
   "execution_count": null,
   "metadata": {},
   "outputs": [],
   "source": []
  }
 ],
 "metadata": {
  "kernelspec": {
   "display_name": "Python 3",
   "language": "python",
   "name": "python3"
  },
  "language_info": {
   "codemirror_mode": {
    "name": "ipython",
    "version": 3
   },
   "file_extension": ".py",
   "mimetype": "text/x-python",
   "name": "python",
   "nbconvert_exporter": "python",
   "pygments_lexer": "ipython3",
   "version": "3.8.5"
  }
 },
 "nbformat": 4,
 "nbformat_minor": 5
}
