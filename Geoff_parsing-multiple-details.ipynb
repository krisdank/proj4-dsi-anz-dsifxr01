{
 "cells": [
  {
   "cell_type": "code",
   "execution_count": 3,
   "metadata": {},
   "outputs": [
    {
     "data": {
      "text/html": [
       "<div>\n",
       "<style scoped>\n",
       "    .dataframe tbody tr th:only-of-type {\n",
       "        vertical-align: middle;\n",
       "    }\n",
       "\n",
       "    .dataframe tbody tr th {\n",
       "        vertical-align: top;\n",
       "    }\n",
       "\n",
       "    .dataframe thead th {\n",
       "        text-align: right;\n",
       "    }\n",
       "</style>\n",
       "<table border=\"1\" class=\"dataframe\">\n",
       "  <thead>\n",
       "    <tr style=\"text-align: right;\">\n",
       "      <th></th>\n",
       "      <th>Unnamed: 0</th>\n",
       "      <th>Job Title</th>\n",
       "      <th>Company</th>\n",
       "      <th>multiple_details</th>\n",
       "      <th>Description</th>\n",
       "    </tr>\n",
       "  </thead>\n",
       "  <tbody>\n",
       "    <tr>\n",
       "      <th>0</th>\n",
       "      <td>0</td>\n",
       "      <td>Data Scientist</td>\n",
       "      <td>Fundo Loans</td>\n",
       "      <td>['Sydney', 'CBD, Inner West &amp; Eastern Suburbs'...</td>\n",
       "      <td>We are scaling up! An exciting opportunity exi...</td>\n",
       "    </tr>\n",
       "    <tr>\n",
       "      <th>1</th>\n",
       "      <td>1</td>\n",
       "      <td>Data Analyst</td>\n",
       "      <td>AIA Australia Limited</td>\n",
       "      <td>['Melbourne', 'CBD &amp; Inner Suburbs', 'Banking ...</td>\n",
       "      <td>The focus of this role is to provide support t...</td>\n",
       "    </tr>\n",
       "    <tr>\n",
       "      <th>2</th>\n",
       "      <td>2</td>\n",
       "      <td>Junior Business Intelligence Analyst</td>\n",
       "      <td>Hays Talent Solutions</td>\n",
       "      <td>['Sydney', 'CBD, Inner West &amp; Eastern Suburbs'...</td>\n",
       "      <td>Your new companyAt Hays, we are on a journey t...</td>\n",
       "    </tr>\n",
       "    <tr>\n",
       "      <th>3</th>\n",
       "      <td>3</td>\n",
       "      <td>Data Analyst</td>\n",
       "      <td>Atos Australia</td>\n",
       "      <td>['Sydney', 'CBD, Inner West &amp; Eastern Suburbs'...</td>\n",
       "      <td>About Atos:Atos is a global leader in digital ...</td>\n",
       "    </tr>\n",
       "    <tr>\n",
       "      <th>4</th>\n",
       "      <td>4</td>\n",
       "      <td>Data Analyst</td>\n",
       "      <td>Infrastructure Partnerships Australia</td>\n",
       "      <td>['Sydney', 'CBD, Inner West &amp; Eastern Suburbs'...</td>\n",
       "      <td>About Infrastructure Partnerships AustraliaInf...</td>\n",
       "    </tr>\n",
       "    <tr>\n",
       "      <th>...</th>\n",
       "      <td>...</td>\n",
       "      <td>...</td>\n",
       "      <td>...</td>\n",
       "      <td>...</td>\n",
       "      <td>...</td>\n",
       "    </tr>\n",
       "    <tr>\n",
       "      <th>1074</th>\n",
       "      <td>534</td>\n",
       "      <td>Data Analyst</td>\n",
       "      <td>Aurec</td>\n",
       "      <td>['ACT', 'Information &amp; Communication Technolog...</td>\n",
       "      <td>We are looking to engage a skilled and enthusi...</td>\n",
       "    </tr>\n",
       "    <tr>\n",
       "      <th>1075</th>\n",
       "      <td>535</td>\n",
       "      <td>Senior Data Analyst - NSW Government</td>\n",
       "      <td>Talenza</td>\n",
       "      <td>['Sydney', 'CBD, Inner West &amp; Eastern Suburbs'...</td>\n",
       "      <td>Senior Data Analyst - NSW GovernmentLocation: ...</td>\n",
       "    </tr>\n",
       "    <tr>\n",
       "      <th>1076</th>\n",
       "      <td>536</td>\n",
       "      <td>Principal Engineer (Knowledge Graph)</td>\n",
       "      <td>SEEK Limited</td>\n",
       "      <td>['Melbourne', 'CBD &amp; Inner Suburbs', 'Informat...</td>\n",
       "      <td>Company DescriptionAbout SEEKSEEK’s portfolio ...</td>\n",
       "    </tr>\n",
       "    <tr>\n",
       "      <th>1077</th>\n",
       "      <td>537</td>\n",
       "      <td>Data Management Analyst</td>\n",
       "      <td>Humanised Group</td>\n",
       "      <td>['Brisbane', 'CBD &amp; Inner Suburbs', 'Informati...</td>\n",
       "      <td>About the role:In this role you will be requir...</td>\n",
       "    </tr>\n",
       "    <tr>\n",
       "      <th>1078</th>\n",
       "      <td>538</td>\n",
       "      <td>Sales Analyst</td>\n",
       "      <td>B&amp;R Enclosures Pty Ltd</td>\n",
       "      <td>['Brisbane', 'CBD &amp; Inner Suburbs', 'Sales', '...</td>\n",
       "      <td>The Role Based in our Brisbane head office in ...</td>\n",
       "    </tr>\n",
       "  </tbody>\n",
       "</table>\n",
       "<p>1079 rows × 5 columns</p>\n",
       "</div>"
      ],
      "text/plain": [
       "      Unnamed: 0                             Job Title  \\\n",
       "0              0                        Data Scientist   \n",
       "1              1                          Data Analyst   \n",
       "2              2  Junior Business Intelligence Analyst   \n",
       "3              3                          Data Analyst   \n",
       "4              4                          Data Analyst   \n",
       "...          ...                                   ...   \n",
       "1074         534                          Data Analyst   \n",
       "1075         535  Senior Data Analyst - NSW Government   \n",
       "1076         536  Principal Engineer (Knowledge Graph)   \n",
       "1077         537               Data Management Analyst   \n",
       "1078         538                         Sales Analyst   \n",
       "\n",
       "                                    Company  \\\n",
       "0                               Fundo Loans   \n",
       "1                     AIA Australia Limited   \n",
       "2                     Hays Talent Solutions   \n",
       "3                            Atos Australia   \n",
       "4     Infrastructure Partnerships Australia   \n",
       "...                                     ...   \n",
       "1074                                  Aurec   \n",
       "1075                                Talenza   \n",
       "1076                           SEEK Limited   \n",
       "1077                        Humanised Group   \n",
       "1078                 B&R Enclosures Pty Ltd   \n",
       "\n",
       "                                       multiple_details  \\\n",
       "0     ['Sydney', 'CBD, Inner West & Eastern Suburbs'...   \n",
       "1     ['Melbourne', 'CBD & Inner Suburbs', 'Banking ...   \n",
       "2     ['Sydney', 'CBD, Inner West & Eastern Suburbs'...   \n",
       "3     ['Sydney', 'CBD, Inner West & Eastern Suburbs'...   \n",
       "4     ['Sydney', 'CBD, Inner West & Eastern Suburbs'...   \n",
       "...                                                 ...   \n",
       "1074  ['ACT', 'Information & Communication Technolog...   \n",
       "1075  ['Sydney', 'CBD, Inner West & Eastern Suburbs'...   \n",
       "1076  ['Melbourne', 'CBD & Inner Suburbs', 'Informat...   \n",
       "1077  ['Brisbane', 'CBD & Inner Suburbs', 'Informati...   \n",
       "1078  ['Brisbane', 'CBD & Inner Suburbs', 'Sales', '...   \n",
       "\n",
       "                                            Description  \n",
       "0     We are scaling up! An exciting opportunity exi...  \n",
       "1     The focus of this role is to provide support t...  \n",
       "2     Your new companyAt Hays, we are on a journey t...  \n",
       "3     About Atos:Atos is a global leader in digital ...  \n",
       "4     About Infrastructure Partnerships AustraliaInf...  \n",
       "...                                                 ...  \n",
       "1074  We are looking to engage a skilled and enthusi...  \n",
       "1075  Senior Data Analyst - NSW GovernmentLocation: ...  \n",
       "1076  Company DescriptionAbout SEEKSEEK’s portfolio ...  \n",
       "1077  About the role:In this role you will be requir...  \n",
       "1078  The Role Based in our Brisbane head office in ...  \n",
       "\n",
       "[1079 rows x 5 columns]"
      ]
     },
     "execution_count": 3,
     "metadata": {},
     "output_type": "execute_result"
    }
   ],
   "source": [
    "import pandas as pd\n",
    "\n",
    "data = pd.read_csv(\"kk_proj4_json.csv\")\n",
    "data"
   ]
  },
  {
   "cell_type": "code",
   "execution_count": 4,
   "metadata": {},
   "outputs": [
    {
     "data": {
      "text/html": [
       "<div>\n",
       "<style scoped>\n",
       "    .dataframe tbody tr th:only-of-type {\n",
       "        vertical-align: middle;\n",
       "    }\n",
       "\n",
       "    .dataframe tbody tr th {\n",
       "        vertical-align: top;\n",
       "    }\n",
       "\n",
       "    .dataframe thead th {\n",
       "        text-align: right;\n",
       "    }\n",
       "</style>\n",
       "<table border=\"1\" class=\"dataframe\">\n",
       "  <thead>\n",
       "    <tr style=\"text-align: right;\">\n",
       "      <th></th>\n",
       "      <th>Unnamed: 0</th>\n",
       "      <th>Job Title</th>\n",
       "      <th>Company</th>\n",
       "      <th>multiple_details</th>\n",
       "      <th>Description</th>\n",
       "    </tr>\n",
       "  </thead>\n",
       "  <tbody>\n",
       "    <tr>\n",
       "      <th>0</th>\n",
       "      <td>0</td>\n",
       "      <td>Data Scientist</td>\n",
       "      <td>Fundo Loans</td>\n",
       "      <td>['Sydney', 'CBD, Inner West &amp; Eastern Suburbs'...</td>\n",
       "      <td>We are scaling up! An exciting opportunity exi...</td>\n",
       "    </tr>\n",
       "    <tr>\n",
       "      <th>1</th>\n",
       "      <td>1</td>\n",
       "      <td>Data Analyst</td>\n",
       "      <td>AIA Australia Limited</td>\n",
       "      <td>['Melbourne', 'CBD &amp; Inner Suburbs', 'Banking ...</td>\n",
       "      <td>The focus of this role is to provide support t...</td>\n",
       "    </tr>\n",
       "    <tr>\n",
       "      <th>2</th>\n",
       "      <td>2</td>\n",
       "      <td>Junior Business Intelligence Analyst</td>\n",
       "      <td>Hays Talent Solutions</td>\n",
       "      <td>['Sydney', 'CBD, Inner West &amp; Eastern Suburbs'...</td>\n",
       "      <td>Your new companyAt Hays, we are on a journey t...</td>\n",
       "    </tr>\n",
       "    <tr>\n",
       "      <th>3</th>\n",
       "      <td>3</td>\n",
       "      <td>Data Analyst</td>\n",
       "      <td>Atos Australia</td>\n",
       "      <td>['Sydney', 'CBD, Inner West &amp; Eastern Suburbs'...</td>\n",
       "      <td>About Atos:Atos is a global leader in digital ...</td>\n",
       "    </tr>\n",
       "    <tr>\n",
       "      <th>4</th>\n",
       "      <td>4</td>\n",
       "      <td>Data Analyst</td>\n",
       "      <td>Infrastructure Partnerships Australia</td>\n",
       "      <td>['Sydney', 'CBD, Inner West &amp; Eastern Suburbs'...</td>\n",
       "      <td>About Infrastructure Partnerships AustraliaInf...</td>\n",
       "    </tr>\n",
       "  </tbody>\n",
       "</table>\n",
       "</div>"
      ],
      "text/plain": [
       "   Unnamed: 0                             Job Title  \\\n",
       "0           0                        Data Scientist   \n",
       "1           1                          Data Analyst   \n",
       "2           2  Junior Business Intelligence Analyst   \n",
       "3           3                          Data Analyst   \n",
       "4           4                          Data Analyst   \n",
       "\n",
       "                                 Company  \\\n",
       "0                            Fundo Loans   \n",
       "1                  AIA Australia Limited   \n",
       "2                  Hays Talent Solutions   \n",
       "3                         Atos Australia   \n",
       "4  Infrastructure Partnerships Australia   \n",
       "\n",
       "                                    multiple_details  \\\n",
       "0  ['Sydney', 'CBD, Inner West & Eastern Suburbs'...   \n",
       "1  ['Melbourne', 'CBD & Inner Suburbs', 'Banking ...   \n",
       "2  ['Sydney', 'CBD, Inner West & Eastern Suburbs'...   \n",
       "3  ['Sydney', 'CBD, Inner West & Eastern Suburbs'...   \n",
       "4  ['Sydney', 'CBD, Inner West & Eastern Suburbs'...   \n",
       "\n",
       "                                         Description  \n",
       "0  We are scaling up! An exciting opportunity exi...  \n",
       "1  The focus of this role is to provide support t...  \n",
       "2  Your new companyAt Hays, we are on a journey t...  \n",
       "3  About Atos:Atos is a global leader in digital ...  \n",
       "4  About Infrastructure Partnerships AustraliaInf...  "
      ]
     },
     "execution_count": 4,
     "metadata": {},
     "output_type": "execute_result"
    }
   ],
   "source": [
    "data.head()"
   ]
  },
  {
   "cell_type": "code",
   "execution_count": 5,
   "metadata": {},
   "outputs": [
    {
     "data": {
      "text/plain": [
       "array([\"['Sydney', 'CBD, Inner West & Eastern Suburbs', 'Information & Communication Technology', 'Engineering - Software', '$110,000 - $149,999', 'Full time']\",\n",
       "       \"['Melbourne', 'CBD & Inner Suburbs', 'Banking & Financial Services', 'Analysis & Reporting', 'Full time']\",\n",
       "       \"['Sydney', 'CBD, Inner West & Eastern Suburbs', 'Information & Communication Technology', 'Business/Systems Analysts', 'Full time']\",\n",
       "       \"['Sydney', 'CBD, Inner West & Eastern Suburbs', 'Information & Communication Technology', 'Business/Systems Analysts', 'Full time']\",\n",
       "       \"['Sydney', 'CBD, Inner West & Eastern Suburbs', 'Consulting & Strategy', 'Analysts', 'Full time']\"],\n",
       "      dtype=object)"
      ]
     },
     "execution_count": 5,
     "metadata": {},
     "output_type": "execute_result"
    }
   ],
   "source": [
    "# string form of list\n",
    "data.multiple_details.head().values"
   ]
  },
  {
   "cell_type": "code",
   "execution_count": 6,
   "metadata": {},
   "outputs": [],
   "source": [
    "# parse string into list using ast\n",
    "import ast\n",
    "data['multiple_details_lst'] = data.multiple_details.apply(lambda x: ast.literal_eval(x))"
   ]
  },
  {
   "cell_type": "code",
   "execution_count": 7,
   "metadata": {},
   "outputs": [
    {
     "data": {
      "text/plain": [
       "5    653\n",
       "6    277\n",
       "4    149\n",
       "Name: items, dtype: int64"
      ]
     },
     "execution_count": 7,
     "metadata": {},
     "output_type": "execute_result"
    }
   ],
   "source": [
    "# check length of lists\n",
    "data['items'] = data.multiple_details_lst.apply(lambda x:len(x))\n",
    "data['items'].value_counts()"
   ]
  },
  {
   "cell_type": "code",
   "execution_count": 8,
   "metadata": {},
   "outputs": [
    {
     "data": {
      "text/plain": [
       "array([list(['Gold Coast', 'Sales', 'Analysis & Reporting', 'Full time']),\n",
       "       list(['Sydney', 'Banking & Financial Services', 'Analysis & Reporting', 'Full time']),\n",
       "       list(['Ballarat & Central Highlands', 'Information & Communication Technology', 'Business/Systems Analysts', 'Contract/Temp']),\n",
       "       list(['Brisbane', 'Advertising, Arts & Media', 'Other', 'Full time']),\n",
       "       list(['Newcastle, Maitland & Hunter', 'Information & Communication Technology', 'Business/Systems Analysts', 'Full time']),\n",
       "       list(['Adelaide', 'Information & Communication Technology', 'Developers/Programmers', 'Full time']),\n",
       "       list(['Melbourne', 'Information & Communication Technology', 'Business/Systems Analysts', 'Casual/Vacation']),\n",
       "       list(['Brisbane', 'Accounting', 'Analysis & Reporting', 'Contract/Temp']),\n",
       "       list(['Newcastle, Maitland & Hunter', 'Information & Communication Technology', 'Business/Systems Analysts', 'Full time']),\n",
       "       list(['Hobart', 'Science & Technology', 'Other', 'Full time'])],\n",
       "      dtype=object)"
      ]
     },
     "execution_count": 8,
     "metadata": {},
     "output_type": "execute_result"
    }
   ],
   "source": [
    "# hypothesis - lists of different lengths have different features.\n",
    "# features are based on their index in the list\n",
    "# features share the same index in the list. \n",
    "\n",
    "# region, industry, role_type, offer_type\n",
    "data.loc[(data['items']==4),'multiple_details_lst'].sample(10).values"
   ]
  },
  {
   "cell_type": "code",
   "execution_count": 9,
   "metadata": {},
   "outputs": [
    {
     "data": {
      "text/plain": [
       "array([list(['Sydney', 'CBD, Inner West & Eastern Suburbs', 'Banking & Financial Services', 'Analysis & Reporting', 'Full time']),\n",
       "       list(['Sydney', 'Parramatta & Western Suburbs', 'Information & Communication Technology', 'Business/Systems Analysts', 'Full time']),\n",
       "       list(['Brisbane', 'CBD & Inner Suburbs', 'Information & Communication Technology', 'Business/Systems Analysts', 'Full time']),\n",
       "       list(['ACT', 'Government & Defence', 'Government - Federal', '+ 10% super', 'Contract/Temp']),\n",
       "       list(['Brisbane', 'CBD & Inner Suburbs', 'Information & Communication Technology', 'Database Development & Administration', 'Contract/Temp']),\n",
       "       list(['Sydney', 'CBD, Inner West & Eastern Suburbs', 'Information & Communication Technology', 'Business/Systems Analysts', 'Part time']),\n",
       "       list(['ACT', 'Science & Technology', 'Biotechnology & Genetics', 'AU$87K to AU$111K pa + up to 15.4% superannuation', 'Full time']),\n",
       "       list(['South West Coast VIC', 'Information & Communication Technology', 'Business/Systems Analysts', '$53.63 per hour', 'Contract/Temp']),\n",
       "       list(['Sydney', 'CBD, Inner West & Eastern Suburbs', 'Accounting', 'Analysis & Reporting', 'Full time']),\n",
       "       list(['Brisbane', 'CBD & Inner Suburbs', 'Information & Communication Technology', 'Database Development & Administration', 'Full time'])],\n",
       "      dtype=object)"
      ]
     },
     "execution_count": 9,
     "metadata": {},
     "output_type": "execute_result"
    }
   ],
   "source": [
    "# region, sub-region, industry, role_type, offer_type\n",
    "data.loc[(data['items']==5),'multiple_details_lst'].sample(10).values"
   ]
  },
  {
   "cell_type": "code",
   "execution_count": 10,
   "metadata": {},
   "outputs": [
    {
     "data": {
      "text/plain": [
       "array([list(['Sydney', 'CBD, Inner West & Eastern Suburbs', 'Government & Defence', 'Government - Federal', '$69,811 - $95,873 (plus Super)', 'Full time']),\n",
       "       list(['Sydney', 'Parramatta & Western Suburbs', 'Information & Communication Technology', 'Business/Systems Analysts', '+super+bonus+medical+insurance+', 'Full time']),\n",
       "       list(['Sydney', 'CBD, Inner West & Eastern Suburbs', 'Information & Communication Technology', 'Consultants', 'super', 'Full time']),\n",
       "       list(['Melbourne', 'CBD & Inner Suburbs', 'Information & Communication Technology', 'Database Development & Administration', '$700 - $900 per day, Initial 6 month contract ', 'Contract/Temp']),\n",
       "       list(['Melbourne', 'CBD & Inner Suburbs', 'Information & Communication Technology', 'Other', 'Attractive salary package + bonus + benefits', 'Full time']),\n",
       "       list(['Sydney', 'CBD, Inner West & Eastern Suburbs', 'Information & Communication Technology', 'Other', '$95-$105K + super + salary sacrifice', 'Full time']),\n",
       "       list(['Melbourne', 'CBD & Inner Suburbs', 'Information & Communication Technology', 'Database Development & Administration', '$165k + many perks', 'Full time']),\n",
       "       list(['Sydney', 'CBD, Inner West & Eastern Suburbs', 'Information & Communication Technology', 'Security', '$70,000 - $75,000', 'Full time']),\n",
       "       list(['Brisbane', 'CBD & Inner Suburbs', 'Information & Communication Technology', 'Developers/Programmers', '$50 - $59.99 per hour', 'Contract/Temp']),\n",
       "       list(['Melbourne', 'CBD & Inner Suburbs', 'Call Centre & Customer Service', 'Management & Support', '$60000 per annum, Benefits: inclusive super', 'Contract/Temp'])],\n",
       "      dtype=object)"
      ]
     },
     "execution_count": 10,
     "metadata": {},
     "output_type": "execute_result"
    }
   ],
   "source": [
    "# region, sub-region, industry, role_type, renumeration, offer_type\n",
    "data.loc[(data['items']==6),'multiple_details_lst'].sample(10).values"
   ]
  },
  {
   "cell_type": "code",
   "execution_count": 11,
   "metadata": {},
   "outputs": [
    {
     "data": {
      "text/plain": [
       "array([{'region': 'Sydney', 'sub_region': 'CBD, Inner West & Eastern Suburbs', 'industry': 'Information & Communication Technology', 'role_type': 'Engineering - Software', 'renumeration': '$110,000 - $149,999', 'offer_type': 'Full time'},\n",
       "       {'region': 'Melbourne', 'sub_region': 'CBD & Inner Suburbs', 'industry': 'Banking & Financial Services', 'role_type': 'Analysis & Reporting', 'offer_type': 'Full time'},\n",
       "       {'region': 'Sydney', 'sub_region': 'CBD, Inner West & Eastern Suburbs', 'industry': 'Information & Communication Technology', 'role_type': 'Business/Systems Analysts', 'offer_type': 'Full time'},\n",
       "       {'region': 'Sydney', 'sub_region': 'CBD, Inner West & Eastern Suburbs', 'industry': 'Information & Communication Technology', 'role_type': 'Business/Systems Analysts', 'offer_type': 'Full time'},\n",
       "       {'region': 'Sydney', 'sub_region': 'CBD, Inner West & Eastern Suburbs', 'industry': 'Consulting & Strategy', 'role_type': 'Analysts', 'offer_type': 'Full time'}],\n",
       "      dtype=object)"
      ]
     },
     "execution_count": 11,
     "metadata": {},
     "output_type": "execute_result"
    }
   ],
   "source": [
    "# example parser function\n",
    "def list_to_dict(row):\n",
    "    d = dict()\n",
    "    if row['items'] ==4:\n",
    "        # region, industry, role_type, offer_type\n",
    "        d['region'] = row['multiple_details_lst'][0]\n",
    "        d['industry'] = row['multiple_details_lst'][1]\n",
    "        d['role_type'] = row['multiple_details_lst'][2]\n",
    "        d['offer_type'] = row['multiple_details_lst'][3]\n",
    "    if row['items'] ==5:\n",
    "        # region, sub_region, industry, role_type, offer_type\n",
    "        d['region'] = row['multiple_details_lst'][0]\n",
    "        d['sub_region'] = row['multiple_details_lst'][1]\n",
    "        d['industry'] = row['multiple_details_lst'][2]\n",
    "        d['role_type'] = row['multiple_details_lst'][3]\n",
    "        d['offer_type'] = row['multiple_details_lst'][4]\n",
    "    if row['items'] ==6:\n",
    "        # region, sub-region, industry, role_type, renumeration, offer_type\n",
    "        d['region'] = row['multiple_details_lst'][0]\n",
    "        d['sub_region'] = row['multiple_details_lst'][1]\n",
    "        d['industry'] = row['multiple_details_lst'][2]\n",
    "        d['role_type'] = row['multiple_details_lst'][3]\n",
    "        d['renumeration'] = row['multiple_details_lst'][4] \n",
    "        d['offer_type'] = row['multiple_details_lst'][5]        \n",
    "    return d\n",
    "\n",
    "data['multiple_items_dict'] = data.apply(list_to_dict,axis=1)\n",
    "data['multiple_items_dict'].head().values"
   ]
  },
  {
   "cell_type": "code",
   "execution_count": 12,
   "metadata": {},
   "outputs": [],
   "source": [
    "# and then pull out of dict to rows using get (for error managing if the dict doesn't have that key)\n",
    "data['region'] = data.multiple_items_dict.apply(lambda x: x.get('region'))\n",
    "data['sub_region'] = data.multiple_items_dict.apply(lambda x: x.get('sub_region'))\n",
    "data['industry'] = data.multiple_items_dict.apply(lambda x: x.get('industry'))\n",
    "data['role_type'] = data.multiple_items_dict.apply(lambda x: x.get('role_type'))\n",
    "data['renumeration'] = data.multiple_items_dict.apply(lambda x: x.get('renumeration'))\n",
    "data['offer_type'] = data.multiple_items_dict.apply(lambda x: x.get('offer_type'))"
   ]
  },
  {
   "cell_type": "code",
   "execution_count": 13,
   "metadata": {},
   "outputs": [
    {
     "data": {
      "text/plain": [
       "$75,200 to $84,468 plus 15.4% super                   8\n",
       "Attractive salary package + bonus + benefits          6\n",
       "$70,000 - $75,000                                     4\n",
       "$130,000 - $149,999                                   4\n",
       "Competitive Salary & Flexible Working Arrangements    4\n",
       "                                                     ..\n",
       "$600 - $725 per day                                   1\n",
       "$836 per day + super                                  1\n",
       "$850 - $875 p.d. incl. Super                          1\n",
       "$100 - $106.25 p.h.                                   1\n",
       "$110k - $140k p.a.                                    1\n",
       "Name: renumeration, Length: 186, dtype: int64"
      ]
     },
     "execution_count": 13,
     "metadata": {},
     "output_type": "execute_result"
    }
   ],
   "source": [
    "# you will still need regex to get the numeric values out\n",
    "data.renumeration.value_counts()"
   ]
  },
  {
   "cell_type": "code",
   "execution_count": null,
   "metadata": {},
   "outputs": [],
   "source": []
  },
  {
   "cell_type": "code",
   "execution_count": 14,
   "metadata": {},
   "outputs": [
    {
     "data": {
      "text/plain": [
       "Full time          812\n",
       "Contract/Temp      256\n",
       "Part time            6\n",
       "Casual/Vacation      5\n",
       "Name: offer_type, dtype: int64"
      ]
     },
     "execution_count": 14,
     "metadata": {},
     "output_type": "execute_result"
    }
   ],
   "source": [
    "# maybe there's some fun in looking at offer types\n",
    "data.offer_type.value_counts()"
   ]
  }
 ],
 "metadata": {
  "kernelspec": {
   "display_name": "Python 3",
   "language": "python",
   "name": "python3"
  },
  "language_info": {
   "codemirror_mode": {
    "name": "ipython",
    "version": 3
   },
   "file_extension": ".py",
   "mimetype": "text/x-python",
   "name": "python",
   "nbconvert_exporter": "python",
   "pygments_lexer": "ipython3",
   "version": "3.8.5"
  }
 },
 "nbformat": 4,
 "nbformat_minor": 5
}
